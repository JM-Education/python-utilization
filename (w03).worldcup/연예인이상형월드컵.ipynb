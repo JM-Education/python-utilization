{
 "cells": [
  {
   "cell_type": "markdown",
   "id": "55c51c01-622c-46ae-ba36-d67ed07d76f9",
   "metadata": {},
   "source": [
    "## 기본 구현"
   ]
  },
  {
   "cell_type": "code",
   "execution_count": null,
   "id": "2db98f50-be77-4760-82b4-f10d8527f65a",
   "metadata": {},
   "outputs": [],
   "source": [
    "import random\n",
    "\n",
    "참가자들 = [\n",
    "    \"이성경\", \"송혜교\", \"전지현\", \"김태희\",\n",
    "    \"차은우\", \"박보검\", \"송중기\", \"현빈\",\n",
    "    \"아이유\", \"수지\", \"김유정\", \"한지민\",\n",
    "    \"이종석\", \"정해인\", \"조정석\", \"박서준\"\n",
    "]\n",
    "\n",
    "라운드 = 1\n",
    "\n",
    "while len(참가자들) > 1:\n",
    "    print(f\"\\n=== {라운드} 라운드 ===\")\n",
    "    이긴사람들 = []\n",
    "    random.shuffle(참가자들)\n",
    "    \n",
    "    for i in range(0, len(참가자들)-1, 2):\n",
    "        대결 = [참가자들[i], 참가자들[i + 1]]\n",
    "        print(f\"누가 이길까요? {대결[0]} vs {대결[1]}\")\n",
    "        승자선택 = int(input(\"이기는 쪽을 선택하세요 (1 또는 2): \"))\n",
    "        승자 = 대결[승자선택-1]\n",
    "        이긴사람들.append(승자)\n",
    "    \n",
    "    print(\"남은 사람들\", 이긴사람들)\n",
    "    참가자들 = 이긴사람들\n",
    "    라운드 += 1\n",
    "\n",
    "print(f\"\\n최종 이상형은 {참가자들[0]} 입니다!\")"
   ]
  },
  {
   "cell_type": "markdown",
   "id": "5c2491f8-1f54-42bd-927c-f52b43b7bb5d",
   "metadata": {},
   "source": [
    "## 만약에 사용자가 1, 2 말고 다른것을 입력하면 어떻게 될까요?\n",
    " - 사용자가 다른 숫자를 입력하면 다시 입력하라고 하기!"
   ]
  },
  {
   "cell_type": "code",
   "execution_count": 6,
   "id": "07794181-1fe4-4d64-9911-d76c1bf3b10d",
   "metadata": {},
   "outputs": [],
   "source": [
    "import random\n",
    "\n",
    "참가자들 = [\n",
    "    \"이성경\", \"송혜교\", \"전지현\", \"김태희\",\n",
    "    \"차은우\", \"박보검\", \"송중기\", \"현빈\",\n",
    "    \"아이유\", \"수지\", \"김유정\", \"한지민\",\n",
    "    \"이종석\", \"정해인\", \"조정석\", \"박서준\"\n",
    "]\n",
    "\n",
    "라운드 = 1\n",
    "\n",
    "while len(참가자들) > 1:\n",
    "    print(f\"\\n=== {라운드} 라운드 ===\")\n",
    "    이긴사람들 = []\n",
    "    random.shuffle(참가자들)\n",
    "    \n",
    "    for i in range(0, len(참가자들)-1, 2):\n",
    "        대결 = [참가자들[i], 참가자들[i + 1]]\n",
    "        while True:\n",
    "            print(f\"누가 이길까요? {대결[0]} vs {대결[1]}\")\n",
    "            승자선택 = int(input(\"이기는 쪽을 선택하세요 (1 또는 2): \"))\n",
    "            if 승자선택 == 1 or 승자선택 == 2:\n",
    "                승자 = 대결[승자선택-1]\n",
    "                이긴사람들.append(승자)\n",
    "                break\n",
    "            else:\n",
    "                print(\"=\" * 20)\n",
    "                print(\"잘못된 입력입니다. 1 또는 2를 입력하세요.\")\n",
    "    \n",
    "    print(\"남은 사람들\", 이긴사람들)\n",
    "    참가자들 = 이긴사람들\n",
    "    라운드 += 1\n",
    "\n",
    "print(f\"\\n최종 이상형은 {참가자들[0]} 입니다!\")"
   ]
  },
  {
   "cell_type": "markdown",
   "id": "25977352-ef75-4945-970d-293dfc6d5c1e",
   "metadata": {},
   "source": [
    "## 라운드를 16강 8강 4강... 으로 바꿔볼까요?\n",
    " - 라운드를 n강으로 바꾸기"
   ]
  },
  {
   "cell_type": "code",
   "execution_count": 8,
   "id": "745241c5-e284-4e94-bb86-108d34d3dbcd",
   "metadata": {},
   "outputs": [
    {
     "name": "stdout",
     "output_type": "stream",
     "text": [
      "\n",
      "=== 16강 ===\n",
      "누가 이길까요? 아이유 vs 송중기\n"
     ]
    },
    {
     "name": "stdin",
     "output_type": "stream",
     "text": [
      "이기는 쪽을 선택하세요 (1 또는 2):  1\n"
     ]
    },
    {
     "name": "stdout",
     "output_type": "stream",
     "text": [
      "누가 이길까요? 송혜교 vs 김태희\n"
     ]
    },
    {
     "name": "stdin",
     "output_type": "stream",
     "text": [
      "이기는 쪽을 선택하세요 (1 또는 2):  2\n"
     ]
    },
    {
     "name": "stdout",
     "output_type": "stream",
     "text": [
      "누가 이길까요? 박보검 vs 차은우\n"
     ]
    },
    {
     "name": "stdin",
     "output_type": "stream",
     "text": [
      "이기는 쪽을 선택하세요 (1 또는 2):  1\n"
     ]
    },
    {
     "name": "stdout",
     "output_type": "stream",
     "text": [
      "누가 이길까요? 이성경 vs 정해인\n"
     ]
    },
    {
     "name": "stdin",
     "output_type": "stream",
     "text": [
      "이기는 쪽을 선택하세요 (1 또는 2):  2\n"
     ]
    },
    {
     "name": "stdout",
     "output_type": "stream",
     "text": [
      "누가 이길까요? 이종석 vs 김유정\n"
     ]
    },
    {
     "name": "stdin",
     "output_type": "stream",
     "text": [
      "이기는 쪽을 선택하세요 (1 또는 2):  1\n"
     ]
    },
    {
     "name": "stdout",
     "output_type": "stream",
     "text": [
      "누가 이길까요? 현빈 vs 전지현\n"
     ]
    },
    {
     "name": "stdin",
     "output_type": "stream",
     "text": [
      "이기는 쪽을 선택하세요 (1 또는 2):  2\n"
     ]
    },
    {
     "name": "stdout",
     "output_type": "stream",
     "text": [
      "누가 이길까요? 한지민 vs 수지\n"
     ]
    },
    {
     "name": "stdin",
     "output_type": "stream",
     "text": [
      "이기는 쪽을 선택하세요 (1 또는 2):  1\n"
     ]
    },
    {
     "name": "stdout",
     "output_type": "stream",
     "text": [
      "누가 이길까요? 박서준 vs 조정석\n"
     ]
    },
    {
     "name": "stdin",
     "output_type": "stream",
     "text": [
      "이기는 쪽을 선택하세요 (1 또는 2):  2\n"
     ]
    },
    {
     "name": "stdout",
     "output_type": "stream",
     "text": [
      "남은 사람들 ['아이유', '김태희', '박보검', '정해인', '이종석', '전지현', '한지민', '조정석']\n",
      "\n",
      "=== 8강 ===\n",
      "누가 이길까요? 전지현 vs 이종석\n"
     ]
    },
    {
     "name": "stdin",
     "output_type": "stream",
     "text": [
      "이기는 쪽을 선택하세요 (1 또는 2):  1\n"
     ]
    },
    {
     "name": "stdout",
     "output_type": "stream",
     "text": [
      "누가 이길까요? 김태희 vs 박보검\n"
     ]
    },
    {
     "name": "stdin",
     "output_type": "stream",
     "text": [
      "이기는 쪽을 선택하세요 (1 또는 2):  2\n"
     ]
    },
    {
     "name": "stdout",
     "output_type": "stream",
     "text": [
      "누가 이길까요? 아이유 vs 한지민\n"
     ]
    },
    {
     "name": "stdin",
     "output_type": "stream",
     "text": [
      "이기는 쪽을 선택하세요 (1 또는 2):  1\n"
     ]
    },
    {
     "name": "stdout",
     "output_type": "stream",
     "text": [
      "누가 이길까요? 정해인 vs 조정석\n"
     ]
    },
    {
     "name": "stdin",
     "output_type": "stream",
     "text": [
      "이기는 쪽을 선택하세요 (1 또는 2):  2\n"
     ]
    },
    {
     "name": "stdout",
     "output_type": "stream",
     "text": [
      "남은 사람들 ['전지현', '박보검', '아이유', '조정석']\n",
      "\n",
      "=== 숨막히는 준결승전 ===\n",
      "누가 이길까요? 박보검 vs 조정석\n"
     ]
    },
    {
     "name": "stdin",
     "output_type": "stream",
     "text": [
      "이기는 쪽을 선택하세요 (1 또는 2):  1\n"
     ]
    },
    {
     "name": "stdout",
     "output_type": "stream",
     "text": [
      "누가 이길까요? 전지현 vs 아이유\n"
     ]
    },
    {
     "name": "stdin",
     "output_type": "stream",
     "text": [
      "이기는 쪽을 선택하세요 (1 또는 2):  2\n"
     ]
    },
    {
     "name": "stdout",
     "output_type": "stream",
     "text": [
      "남은 사람들 ['박보검', '아이유']\n",
      "\n",
      "=== 대망의 결승전 ===\n",
      "누가 이길까요? 박보검 vs 아이유\n"
     ]
    },
    {
     "name": "stdin",
     "output_type": "stream",
     "text": [
      "이기는 쪽을 선택하세요 (1 또는 2):  1\n"
     ]
    },
    {
     "name": "stdout",
     "output_type": "stream",
     "text": [
      "남은 사람들 ['박보검']\n",
      "\n",
      "최종 이상형은 박보검 입니다!\n"
     ]
    }
   ],
   "source": [
    "import random\n",
    "\n",
    "참가자들 = [\n",
    "    \"이성경\", \"송혜교\", \"전지현\", \"김태희\",\n",
    "    \"차은우\", \"박보검\", \"송중기\", \"현빈\",\n",
    "    \"아이유\", \"수지\", \"김유정\", \"한지민\",\n",
    "    \"이종석\", \"정해인\", \"조정석\", \"박서준\"\n",
    "]\n",
    "\n",
    "\n",
    "라운드 = 1\n",
    "라운드to대진 = {\n",
    "    1: \"16강\",\n",
    "    2: \"8강\",\n",
    "    3: \"숨막히는 준결승전\",\n",
    "    4: \"대망의 결승전\",\n",
    "}\n",
    "\n",
    "while len(참가자들) > 1:\n",
    "    print(f\"\\n=== {라운드to대진[라운드]} ===\")\n",
    "    이긴사람들 = []\n",
    "    random.shuffle(참가자들)\n",
    "    \n",
    "    for i in range(0, len(참가자들)-1, 2):\n",
    "        대결 = [참가자들[i], 참가자들[i + 1]]\n",
    "        while True:\n",
    "            print(f\"누가 이길까요? {대결[0]} vs {대결[1]}\")\n",
    "            승자선택 = int(input(\"이기는 쪽을 선택하세요 (1 또는 2): \"))\n",
    "            if 승자선택 == 1 or 승자선택 == 2:\n",
    "                승자 = 대결[승자선택-1]\n",
    "                이긴사람들.append(승자)\n",
    "                break\n",
    "            else:\n",
    "                print(\"=\" * 20)\n",
    "                print(\"잘못된 입력입니다. 1 또는 2를 입력하세요.\")\n",
    "    \n",
    "    print(\"남은 사람들\", 이긴사람들)\n",
    "    참가자들 = 이긴사람들\n",
    "    라운드 += 1\n",
    "\n",
    "print(f\"\\n최종 이상형은 {참가자들[0]} 입니다!\")"
   ]
  },
  {
   "cell_type": "code",
   "execution_count": null,
   "id": "3801aec7-c001-4d9b-afbe-987a8a87061c",
   "metadata": {},
   "outputs": [],
   "source": []
  }
 ],
 "metadata": {
  "kernelspec": {
   "display_name": "Python 3 (ipykernel)",
   "language": "python",
   "name": "python3"
  },
  "language_info": {
   "codemirror_mode": {
    "name": "ipython",
    "version": 3
   },
   "file_extension": ".py",
   "mimetype": "text/x-python",
   "name": "python",
   "nbconvert_exporter": "python",
   "pygments_lexer": "ipython3",
   "version": "3.9.13"
  }
 },
 "nbformat": 4,
 "nbformat_minor": 5
}
