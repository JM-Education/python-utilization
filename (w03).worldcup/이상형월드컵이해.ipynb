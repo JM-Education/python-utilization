{
 "cells": [
  {
   "cell_type": "markdown",
   "id": "a11d9039-aaf2-4a19-981a-7dcf41e2e30b",
   "metadata": {},
   "source": [
    "## 이상형 월드컵\n",
    "\n",
    "음식 이상형 월드컵 : https://www.piku.co.kr/w/8Km1Q0\n",
    "\n",
    "### 규칙\n",
    "0. 음식의 숫자는 [2, 4, 8, 16, 32 ... ] 이여야 한다. *2의 거듭제곱\n",
    "1. 대진은 매번 할때마다 랜덤으로 나와야한다.\n",
    "2. 사용자가 맘에 드는 음식 2개중에 하나 선택\n",
    "3. 대결에서 이긴 음식은 살아남고, 진 음식은 탈락\n",
    "4. 최종 1개의 남을때 까지 반복\n",
    "5. 최종 우승 음식 발표"
   ]
  },
  {
   "cell_type": "markdown",
   "id": "8e3ad79b-6109-4327-9598-d78da6a38aa8",
   "metadata": {},
   "source": [
    "## Random Shuffle(리스트)\n",
    "- 리스트에 순서를 무작위로 섞어주는 random 안에 포함되어있는 함수"
   ]
  },
  {
   "cell_type": "code",
   "execution_count": 22,
   "id": "3aa29969-1199-42c1-ac87-bfeed450c4d6",
   "metadata": {},
   "outputs": [
    {
     "name": "stdout",
     "output_type": "stream",
     "text": [
      "['초록매실', '밀키스', '파워에이드', '환타오렌지', '핫식스', '오렌지주스', '딸기우유', '제로콜라']\n"
     ]
    }
   ],
   "source": [
    "import random\n",
    "음료수 = [\"파워에이드\", \n",
    "       \"제로콜라\",\n",
    "       \"환타오렌지\",\n",
    "       \"오렌지주스\",\n",
    "       \"핫식스\",\n",
    "       \"초록매실\",\n",
    "       \"밀키스\",\n",
    "       \"딸기우유\"\n",
    "    ]\n",
    "random.shuffle(음료수)\n",
    "print(음료수)"
   ]
  },
  {
   "cell_type": "markdown",
   "id": "11cea9ff-d5f0-491a-84b3-23a20bf1b413",
   "metadata": {},
   "source": [
    "***\n",
    "## for i in range(0, 16, 2):\n",
    "\n",
    "- 0은 시작점을 의미\n",
    "- 16은 [끝지점 -1]을 의미\n",
    "- 2는 간격을 의미"
   ]
  },
  {
   "cell_type": "code",
   "execution_count": 25,
   "id": "23b36cec-e87b-47bd-bf5e-508b136d2432",
   "metadata": {},
   "outputs": [
    {
     "name": "stdout",
     "output_type": "stream",
     "text": [
      "0 2 4 6 8 10 12 14 "
     ]
    }
   ],
   "source": [
    "for i in range(0, 16, 2):\n",
    "    print(i, end=\" \")"
   ]
  },
  {
   "cell_type": "code",
   "execution_count": 29,
   "id": "10adaa88-1de4-4c31-8628-345512c97ddb",
   "metadata": {},
   "outputs": [
    {
     "name": "stdout",
     "output_type": "stream",
     "text": [
      "==== 1번째 대결 ====\n",
      "초록매실 vs 밀키스\n",
      "==== 2번째 대결 ====\n",
      "파워에이드 vs 환타오렌지\n",
      "==== 3번째 대결 ====\n",
      "핫식스 vs 오렌지주스\n",
      "==== 4번째 대결 ====\n",
      "딸기우유 vs 제로콜라\n"
     ]
    }
   ],
   "source": [
    "n = 0\n",
    "for i in range(0, len(음료수), 2):\n",
    "    print(f\"==== {n + 1}번째 대결 ====\")\n",
    "    print(f\"{음료수[i]} vs {음료수[i+1]}\")\n",
    "    n = n + 1"
   ]
  },
  {
   "cell_type": "markdown",
   "id": "96b2fc69-33b8-46f4-95a6-7e2bf91bdc39",
   "metadata": {},
   "source": [
    "***\n",
    "### While(len(참가자들) > 1):\n",
    "- 참가자가 1명이 될때까지 계속 반복하세요\n",
    "\n",
    "### While(True):\n",
    "- if len(참가자들) == 1\n",
    "- break"
   ]
  },
  {
   "cell_type": "code",
   "execution_count": 39,
   "id": "c87f8959-ea43-4287-aac9-876890a91256",
   "metadata": {},
   "outputs": [
    {
     "name": "stdout",
     "output_type": "stream",
     "text": [
      "현재 참가자 수: 7\n",
      "현재 참가자 수: 6\n",
      "현재 참가자 수: 5\n",
      "현재 참가자 수: 4\n",
      "현재 참가자 수: 3\n",
      "현재 참가자 수: 2\n",
      "현재 참가자 수: 1\n",
      "마지막 생존자: A\n"
     ]
    }
   ],
   "source": [
    "import time\n",
    "참가자들 = [\"A\",\"B\",\"C\",\"D\",\"E\",\"F\",\"G\"]\n",
    "\n",
    "while(len(참가자들) > 1):\n",
    "    time.sleep(1)\n",
    "    print(f\"현재 참가자 수: {len(참가자들)}\") \n",
    "    참가자들.pop()\n",
    "    \n",
    "print(f\"현재 참가자 수: {len(참가자들)}\") \n",
    "print(f\"마지막 생존자: {참가자들[0]}\")"
   ]
  },
  {
   "cell_type": "code",
   "execution_count": null,
   "id": "8a317968-0269-485a-b678-8efab7c5b556",
   "metadata": {},
   "outputs": [],
   "source": []
  }
 ],
 "metadata": {
  "kernelspec": {
   "display_name": "Python 3 (ipykernel)",
   "language": "python",
   "name": "python3"
  },
  "language_info": {
   "codemirror_mode": {
    "name": "ipython",
    "version": 3
   },
   "file_extension": ".py",
   "mimetype": "text/x-python",
   "name": "python",
   "nbconvert_exporter": "python",
   "pygments_lexer": "ipython3",
   "version": "3.9.13"
  }
 },
 "nbformat": 4,
 "nbformat_minor": 5
}
