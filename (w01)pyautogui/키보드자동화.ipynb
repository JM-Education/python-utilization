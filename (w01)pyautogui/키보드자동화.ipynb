{
 "cells": [
  {
   "cell_type": "markdown",
   "id": "c4340fee-0740-41eb-ba68-5c6c20959bb7",
   "metadata": {},
   "source": [
    "### 동영상 강의\n",
    "https://youtu.be/NI5dEsKsaSE?si=0ToA4p5fdIkR2kaZ"
   ]
  },
  {
   "cell_type": "code",
   "execution_count": 2,
   "id": "1f7be3f2-c020-48de-80b5-94475688aa66",
   "metadata": {},
   "outputs": [],
   "source": [
    "import pyautogui"
   ]
  },
  {
   "cell_type": "markdown",
   "id": "35f66491-838a-4f38-ab17-51bb754931b4",
   "metadata": {},
   "source": [
    "## 1. write() 함수"
   ]
  },
  {
   "cell_type": "code",
   "execution_count": null,
   "id": "d896f6a0-f81a-49bc-8b59-16309132dccc",
   "metadata": {},
   "outputs": [],
   "source": [
    "pyautogui.write('hello world!') # 괄호 안의 문자를 타이핑 합니다.\n",
    "pyautogui.write('hello world!', interval=0.25) # 각 문자를 0.25마다 타이핑합니다. "
   ]
  },
  {
   "cell_type": "markdown",
   "id": "911832cc-0b22-4e20-8c93-9838412ef4d9",
   "metadata": {},
   "source": [
    "## 2. press(), keyDown(), keyUp() 함수"
   ]
  },
  {
   "cell_type": "code",
   "execution_count": 3,
   "id": "af2ca84b-d22f-4b1a-915a-7dd4f62367ad",
   "metadata": {},
   "outputs": [],
   "source": [
    "pyautogui.press('shift') # shift 키를 누릅니다.\n",
    "pyautogui.press('ctrl') # ctrl 키를 누릅니다. "
   ]
  },
  {
   "cell_type": "code",
   "execution_count": 4,
   "id": "656eb3cf-dc5f-40fb-9d58-d69a856ec81a",
   "metadata": {},
   "outputs": [],
   "source": [
    "pyautogui.keyDown('ctrl') # ctrl 키를 누른 상태를 유지합니다.\n",
    "pyautogui.press('c') # c key를 입력합니다. \n",
    "pyautogui.keyUp('ctrl') # ctrl 키를 뗍니다. "
   ]
  },
  {
   "cell_type": "code",
   "execution_count": 5,
   "id": "1368fdfc-a228-4f8b-9873-accf84a2911b",
   "metadata": {},
   "outputs": [],
   "source": [
    "pyautogui.press(['left', 'left', 'left']) # 왼쪽 방향키를 세번 입력합니다.\n",
    "pyautogui.press('left', presses=3) # 왼쪽 방향키를 세번 입력합니다. \n",
    "pyautogui.press('enter', presses=3, interval=3) # enter 키를 3초에 한번씩 세번 입력합니다. "
   ]
  },
  {
   "cell_type": "markdown",
   "id": "8ad88864-ba25-4315-96e3-3ce1008d5d26",
   "metadata": {},
   "source": [
    "## (!) 미션 봉코켓 사이트에서 자동으로 파이노 연주하기\n",
    " - 봉고켓 : https://bongo.cat/\n"
   ]
  },
  {
   "cell_type": "code",
   "execution_count": 6,
   "id": "fed5e514-d5dc-4793-a3c2-5b5f97c20dec",
   "metadata": {},
   "outputs": [],
   "source": [
    "import time\n",
    "import pyautogui as pt\n",
    "\n",
    "계이름 = {\n",
    "    \"도\" : \"1\",\n",
    "    \"레\" : \"3\",\n",
    "    \"미\" : \"5\",\n",
    "    \"파\" : \"6\",\n",
    "    \"솔\" : \"8\",\n",
    "    \"라\" : \"0\"\n",
    "}\n",
    "     \n",
    "비행기 = \"미레도레미미미 레레레미미미 미레도레미미미 레레미레도\"\n",
    "나비야 = \"솔미미 파레레 도레미파솔솔솔  솔미미미 파레레 도미솔솔 미미미  레레레레 레미파 미미미미 미파솔  솔미미 파레레 도미솔솔 미미미\"\n",
    "\n",
    "for i in 나비야:\n",
    "    if i == \" \":\n",
    "        time.sleep(0.2)\n",
    "    else:\n",
    "        pt.press(계이름[i])\n",
    "        time.sleep(0.1)"
   ]
  },
  {
   "cell_type": "markdown",
   "id": "da644502-7e52-4a47-84c9-6a84dead2a02",
   "metadata": {},
   "source": [
    "더 공부하고 싶으면\n",
    "- https://wikidocs.net/book/4706"
   ]
  }
 ],
 "metadata": {
  "kernelspec": {
   "display_name": "Python 3 (ipykernel)",
   "language": "python",
   "name": "python3"
  },
  "language_info": {
   "codemirror_mode": {
    "name": "ipython",
    "version": 3
   },
   "file_extension": ".py",
   "mimetype": "text/x-python",
   "name": "python",
   "nbconvert_exporter": "python",
   "pygments_lexer": "ipython3",
   "version": "3.9.13"
  }
 },
 "nbformat": 4,
 "nbformat_minor": 5
}
