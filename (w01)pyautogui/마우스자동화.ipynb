{
 "cells": [
  {
   "cell_type": "markdown",
   "id": "3e123d8e-a6ec-43b4-b4cf-a71f045d44a6",
   "metadata": {
    "tags": []
   },
   "source": [
    "### pyautogui란?\n",
    "#### 내용 출처 : https://wikidocs.net/book/4706\n",
    "\n",
    "1. py(파이썬)\n",
    "2. auto(자동)\n",
    "3. gui(화면) *그래픽 유저 인터페이스\n",
    "\n",
    "**파이썬으로 자동으로 컴퓨터를 조작하는 외부 패키지 입니다.**\n",
    "\n",
    "***\n",
    "\n",
    "### 외부 패키지(Package)란?\n",
    "- 다른 개발자가 만든 코드(모듈)들을 합쳐놓은 폴더\n",
    "- pip 명령어를 통해서 다운로드 받을 수 있음\n",
    "- 직접 개발하지 않고 다른 사람이 만든 도구(tool)을 가져다가 쓰는 방법\n",
    "\n",
    "***\n",
    "\n",
    "### 바퀴를 다시 발명하지 마라<br>\n",
    "(Don't reinvent the wheel) <br>\n",
    "\n",
    "바퀴를 다시 발명하지 마라는 유명한 프로그래밍 격언이다. 이미 만들어져있는 것을 다시 만들지 마라는 것이다.<br>\n",
    "이미 구현되어 있는 기능을 동일하게 다시 만드려고 하는 경우를 의미한다.\n",
    "\n",
    "### 동기부여\n",
    "- 업무 자동화 뉴스 : https://www.yna.co.kr/view/AKR20160617005000091\n",
    "- 업무 자동화 채용 : https://m.saramin.co.kr/job-search/view?rec_idx=46793258"
   ]
  },
  {
   "cell_type": "code",
   "execution_count": 4,
   "id": "babf500e-8f64-4f95-b540-658bcdf5756e",
   "metadata": {},
   "outputs": [],
   "source": [
    "!pip install pyautogui # pyautogui 설치"
   ]
  },
  {
   "cell_type": "markdown",
   "id": "7c99e2dd-49b0-4ef3-943a-2b7101734e4e",
   "metadata": {},
   "source": [
    "## 화면 크기 출력\n",
    "\n",
    "(주의) 화면 크기는 각자의 컴퓨터 모니터 해상도에 따라 달라요!\n",
    "\n",
    "컴퓨터 화면의 해상도는 좌표를 의미하기도합니다."
   ]
  },
  {
   "cell_type": "code",
   "execution_count": 2,
   "id": "72e25d9e-efbd-466a-87b9-ed1768a1accb",
   "metadata": {},
   "outputs": [],
   "source": [
    "import pyautogui"
   ]
  },
  {
   "cell_type": "code",
   "execution_count": 8,
   "id": "05a24f45-253e-4201-981a-4b53f77c15d5",
   "metadata": {},
   "outputs": [
    {
     "name": "stdout",
     "output_type": "stream",
     "text": [
      "Size(width=1440, height=900)\n"
     ]
    }
   ],
   "source": [
    "print(pyautogui.size())"
   ]
  },
  {
   "cell_type": "markdown",
   "id": "cc83df08-8567-4323-9eb0-e083ce9b51fa",
   "metadata": {},
   "source": [
    "## 마우스의 현재 위치(좌표) 출력"
   ]
  },
  {
   "cell_type": "code",
   "execution_count": 3,
   "id": "b9ecba62-1182-4388-827d-15320f312da3",
   "metadata": {},
   "outputs": [
    {
     "name": "stdout",
     "output_type": "stream",
     "text": [
      "Point(x=1238, y=809)\n"
     ]
    }
   ],
   "source": [
    "print(pyautogui.position())"
   ]
  },
  {
   "cell_type": "markdown",
   "id": "57f193ca-a54a-4348-bbbf-55652cac485c",
   "metadata": {
    "tags": []
   },
   "source": [
    "## 마우스 자동화\n",
    "\n",
    "pyautogui를 통해 마우스의 위치(좌표)로 이동시킬 수 있어요!"
   ]
  },
  {
   "cell_type": "code",
   "execution_count": 6,
   "id": "6039b001-869a-4170-bc47-7e9ec4bd1b86",
   "metadata": {},
   "outputs": [],
   "source": [
    "import pyautogui as pt"
   ]
  },
  {
   "cell_type": "code",
   "execution_count": 13,
   "id": "b179f2ce-6126-40f4-a1c0-c6c556897022",
   "metadata": {},
   "outputs": [],
   "source": [
    "pt.moveTo(100, 200) # x 100, y 200 위치로 바로 이동"
   ]
  },
  {
   "cell_type": "code",
   "execution_count": 14,
   "id": "fec8d346-0d09-4fcf-9af3-e1ca7e284022",
   "metadata": {},
   "outputs": [],
   "source": [
    "pt.moveTo(100, 200, 2) # x 100, y 200 위치로 2초동안 이동"
   ]
  },
  {
   "cell_type": "markdown",
   "id": "00632de7-5103-4247-9a97-41fc214b9528",
   "metadata": {
    "tags": []
   },
   "source": [
    "#### 두 코드의 차이점이 뭔가요?\n",
    "1. 첫번째 코드는 순간이동\n",
    "2. 두번쨰 코드는 천천히 이동"
   ]
  },
  {
   "cell_type": "code",
   "execution_count": null,
   "id": "2110a2e6-53e7-43e7-b411-c13002c0fdb7",
   "metadata": {},
   "outputs": [],
   "source": [
    "pt.click() # 마우스 왼쪽 클릭"
   ]
  },
  {
   "cell_type": "code",
   "execution_count": null,
   "id": "5a7399a8-ad5f-4213-94da-8ea9d7607bc9",
   "metadata": {},
   "outputs": [],
   "source": [
    "pt.click(button='right') # 마우스 오른쪽 클릭"
   ]
  },
  {
   "cell_type": "code",
   "execution_count": null,
   "id": "e37fe2aa-4dcd-42bc-99cb-0309ad0be1a6",
   "metadata": {},
   "outputs": [],
   "source": [
    "pt.doubleClick() # 마우스 더블 클릭"
   ]
  },
  {
   "cell_type": "code",
   "execution_count": null,
   "id": "77d11593-3872-44d8-bad2-de4e82d1d58f",
   "metadata": {},
   "outputs": [],
   "source": [
    "pt.click(clicks=3, interval=1) # 3번 클릭할건데 1초마다"
   ]
  },
  {
   "cell_type": "markdown",
   "id": "3f34dd46-b145-4ecf-ba9b-9027930d90fb",
   "metadata": {},
   "source": [
    "### Time 패키지\n",
    "- time 패키지는 이미 다운로드 되어있는 내부 패키지예요 설치할 필요없어요\n",
    "\n",
    "### 사용 이유\n",
    "- pyautogui를 사용하다보면 컴퓨터가 너무 빠르게 동작할때가 있어요\n",
    "- ex) 홈페이지가 로딩되지 않았는데 클릭하라고 명령\n",
    "- ex) 폴터가 열리지 않았는데 클릭하라고 명령\n",
    "\n",
    "이런 경우 중간에 time.sleep()을 사용해야해요!"
   ]
  },
  {
   "cell_type": "code",
   "execution_count": 16,
   "id": "4ef74e9a-be2c-4590-af13-1ffac0179d40",
   "metadata": {},
   "outputs": [
    {
     "name": "stdout",
     "output_type": "stream",
     "text": [
      "시작\n",
      "끝\n"
     ]
    }
   ],
   "source": [
    "import time\n",
    "\n",
    "print(\"시작\")\n",
    "time.sleep(3) # 3초동안 대기하세요\n",
    "print(\"끝\")"
   ]
  },
  {
   "cell_type": "markdown",
   "id": "3950d4e4-af3e-4cf7-a7a0-f2bd9cd04646",
   "metadata": {},
   "source": [
    "### (!)미션 (컴퓨터를 자동으로 종료하는 코드를 구현해봐요)\n",
    " - 각각의 컴퓨터 해상도마다 값이 달라져요"
   ]
  },
  {
   "cell_type": "code",
   "execution_count": 10,
   "id": "1101de2b-f656-43a6-92f4-288aedcde31c",
   "metadata": {},
   "outputs": [
    {
     "name": "stdout",
     "output_type": "stream",
     "text": [
      "Point(x=1082, y=389)\n"
     ]
    }
   ],
   "source": [
    "print(pyautogui.position())"
   ]
  },
  {
   "cell_type": "code",
   "execution_count": 12,
   "id": "74c47e13-8765-4e91-abe1-fc449866e907",
   "metadata": {},
   "outputs": [],
   "source": [
    "import pyautogui as pt\n",
    "import time\n",
    "\n",
    "pt.moveTo(23, 20, 2) #시작 아이콘\n",
    "pt.click()\n",
    "time.sleep(1)\n",
    "pt.moveTo(78, 245 ,2)\n",
    "pt.click()\n",
    "pt.moveTo(1082, 389, 2)\n",
    "time.sleep(1)\n",
    "# pt.click()\n",
    "# pt.click()"
   ]
  },
  {
   "cell_type": "markdown",
   "id": "9ea45def-85b5-45bd-a2d9-c1ab4b2aa53a",
   "metadata": {
    "tags": []
   },
   "source": [
    "#### 추가 자료(드래그)"
   ]
  },
  {
   "cell_type": "code",
   "execution_count": null,
   "id": "daaf0ee3-92c7-4660-8385-fdf9433e5795",
   "metadata": {},
   "outputs": [],
   "source": [
    "pyautogui.moveTo(816,81, 2)\n",
    "pyautogui.dragTo(539,80, 2)"
   ]
  }
 ],
 "metadata": {
  "kernelspec": {
   "display_name": "Python 3 (ipykernel)",
   "language": "python",
   "name": "python3"
  },
  "language_info": {
   "codemirror_mode": {
    "name": "ipython",
    "version": 3
   },
   "file_extension": ".py",
   "mimetype": "text/x-python",
   "name": "python",
   "nbconvert_exporter": "python",
   "pygments_lexer": "ipython3",
   "version": "3.9.13"
  }
 },
 "nbformat": 4,
 "nbformat_minor": 5
}
