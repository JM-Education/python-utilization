{
 "cells": [
  {
   "cell_type": "markdown",
   "id": "2ba8c010-4c54-4005-a9f0-dd7f8c97b9c6",
   "metadata": {},
   "source": [
    "## 확률(Probability)\n",
    "\n",
    "## 예시\n",
    "#### 아이템 상자:\n",
    "\"상자 안에 빨간 구슬이 3개, 파란 구슬이 2개 들어있어. 만약 상자에서 하나의 구슬을 뽑는다면, 빨간 구슬을 뽑을 확률은 어떨까요?\"\n",
    "답: \"빨간 구슬이 3개, 파란 구슬이 2개이므로, 뽑을 때 빨간 구슬이 나올 확률은 3/5이에요.\"\n",
    "\n",
    "#### 카드 덱:\n",
    "\"카드 덱에는 숫자 1부터 10까지의 숫자가 하나씩 적혀있어. 만약 한 장의 카드를 뽑는다면, 짝수가 나올 확률은 어떨까요?\"\n",
    "답: \"총 5장의 짝수 카드가 있으므로, 뽑을 때 짝수가 나올 확률은 5/10 또는 1/2이에요.\"\n",
    "\n",
    "#### 복권 추첨:\n",
    "\"복권에는 100장의 복권이 있고, 그 중에 당첨 복권은 5장뿐이에요. 만약 한 장을 뽑는다면, 당첨 복권을 뽑을 확률은 어떨까요?\"\n",
    "답: \"당첨 복권이 5장이므로, 뽑을 때 당첨 복권을 뽑을 확률은 5/100 또는 1/20이에요.\"\n",
    "\n",
    "***\n",
    "\n",
    "클래시 로얄 확률 : https://namu.wiki/w/%ED%81%B4%EB%9E%98%EC%8B%9C%20%EB%A1%9C%EC%96%84/%EC%83%81%EC%9E%90\n",
    "\n"
   ]
  },
  {
   "cell_type": "markdown",
   "id": "aacb0870-84e6-4d98-b2d7-b0f676f74755",
   "metadata": {},
   "source": [
    "## 코딩에서 확률이란?\n",
    " - 1~100 사이의 값의 범위를 나눠 갖는 것\n",
    " - 각각의 아이템마다 영역을 차지하는 것"
   ]
  },
  {
   "cell_type": "code",
   "execution_count": 35,
   "id": "e5bcfa32-3e9b-411c-8d7e-0f61d2b90c08",
   "metadata": {},
   "outputs": [
    {
     "name": "stdout",
     "output_type": "stream",
     "text": [
      "비가 주륵주륵\n"
     ]
    }
   ],
   "source": [
    "import random\n",
    "\n",
    "random_value = random.randint(1, 100)\n",
    "\n",
    "강수확률 = 80\n",
    "\n",
    "if random_value <= 강수확률:\n",
    "    print(\"비가 주륵주륵\")\n",
    "else:\n",
    "    print(\"해가 쩅쩅\")"
   ]
  },
  {
   "cell_type": "markdown",
   "id": "4fac30c4-5a4d-45a5-bb11-ea7021b9ac04",
   "metadata": {},
   "source": [
    "## 아이템 뽑기"
   ]
  },
  {
   "cell_type": "code",
   "execution_count": 15,
   "id": "a6ade727-9850-40ac-a805-48290cb9860d",
   "metadata": {},
   "outputs": [],
   "source": [
    "import random"
   ]
  },
  {
   "cell_type": "code",
   "execution_count": 16,
   "id": "5c5e0cb5-9e75-4728-b926-722b07a77fcb",
   "metadata": {},
   "outputs": [],
   "source": [
    "prob_item_A = 30  # 아이템 A의 확률\n",
    "prob_item_B = 20  # 아이템 B의 확률"
   ]
  },
  {
   "cell_type": "code",
   "execution_count": 31,
   "id": "9593b07a-baff-4091-af56-1e4db34706b8",
   "metadata": {},
   "outputs": [
    {
     "name": "stdout",
     "output_type": "stream",
     "text": [
      "기타 아이템\n"
     ]
    }
   ],
   "source": [
    "random_value = random.randint(1, 100)  # 1부터 100 사이의 난수 생성\n",
    "\n",
    "# 아이템 선택\n",
    "if random_value <= prob_item_A:\n",
    "    picked = \"아이템 A\"\n",
    "elif prob_item_A < random_value <= prob_item_A + prob_item_B:\n",
    "    picked = \"아이템 B\"\n",
    "else:\n",
    "    picked = \"기타 아이템\"\n",
    "\n",
    "print(picked)"
   ]
  },
  {
   "cell_type": "markdown",
   "id": "055e3715-1bd3-4b49-94c3-9e036ce6fb56",
   "metadata": {},
   "source": [
    "#### 각각의 아이템확률의 영역은 겹치면 안됨!"
   ]
  }
 ],
 "metadata": {
  "kernelspec": {
   "display_name": "Python 3 (ipykernel)",
   "language": "python",
   "name": "python3"
  },
  "language_info": {
   "codemirror_mode": {
    "name": "ipython",
    "version": 3
   },
   "file_extension": ".py",
   "mimetype": "text/x-python",
   "name": "python",
   "nbconvert_exporter": "python",
   "pygments_lexer": "ipython3",
   "version": "3.9.13"
  }
 },
 "nbformat": 4,
 "nbformat_minor": 5
}
