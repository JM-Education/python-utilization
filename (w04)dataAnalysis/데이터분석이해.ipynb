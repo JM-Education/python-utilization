{
 "cells": [
  {
   "cell_type": "markdown",
   "id": "0460994d-2274-4932-b5cf-6d39ac467501",
   "metadata": {},
   "source": [
    "## 데이터 분석\n",
    "\n",
    "데이터 분석은 마치 마법사가 마법봉을 휘둘러 예측과 이해의 문을 열어주는 것과 비슷해요! 여러분이 사용하는 컴퓨터, 핸드폰, 인터넷에서는 많은 양의 정보가 생성되는데, 이것들을 데이터라고 부릅니다. 데이터를 제대로 분석하면 우리는 더 많은 것을 알 수 있어요.\n",
    "\n",
    "#### 1. 게임\n",
    "데이터는 마치 게임에서 얻는 점수와 비슷해요. 여러분이 게임을 할 때마다 획득하는 점수들은 데이터입니다. 이 데이터를 분석하면, 어떤 레벨에서 능력이 높아지는지, 어떤 아이템을 사용하면 강해질지 등을 알 수 있어요.\n",
    "\n",
    "#### 2. 도서\n",
    "데이터는 도서관에 있는 수많은 책과도 비슷합니다. 만약 도서관에 어떤 주제의 책이 얼마나 많은지 알고 싶다면, 책을 세어보고 분석해야겠죠? 데이터 분석은 이렇게 많은 정보 중에서 원하는 것을 찾고 이해하는 일이에요.\n",
    "\n",
    "#### 3. 스포츠\n",
    "데이터는 스포츠에서의 성적표와도 비슷합니다. 어떤 선수가 가장 많은 득점을 했는지, 누가 가장 빠른 속도로 달렸는지 등을 데이터를 통해 알 수 있어요.\n",
    "\n",
    "## 직업 정보(데이터 분석가)\n",
    "https://www.codestates.com/blog/content/%EB%8D%B0%EC%9D%B4%ED%84%B0-%EB%B6%84%EC%84%9D%EA%B0%80-%ED%98%84%EC%8B%A4\n",
    "\n",
    "## 오늘 실습할 내용\n",
    "- 타이타닉 생존자 데이터\n",
    "- 유튜브 영상 : https://youtu.be/aCQc1y2Y2gY?si=-aiQ4bUM8vaQHAuV"
   ]
  },
  {
   "cell_type": "code",
   "execution_count": 2,
   "id": "5f9318cb-d217-44b1-99c7-ac8266500a60",
   "metadata": {},
   "outputs": [],
   "source": [
    "import pandas as pd"
   ]
  },
  {
   "cell_type": "markdown",
   "id": "22f073a5-ac37-44c6-b930-514aec66c8eb",
   "metadata": {},
   "source": [
    "### pandas\n",
    "- 데이터 처리와 분석을 위한 라이브러리\n",
    "\n",
    "### 역할\n",
    "- pandas는 표 형태의 데이터를 다루기 쉽게 해주는 도구입니다.\n",
    "- 엑셀 스프레드시트처럼 행과 열로 이루어진 데이터를 다양한 방식으로 조작할 수 있게 해줍니다.\n",
    "\n",
    "### 활용 예시\n",
    "- 데이터를 불러오고, 필요한 정보를 선택하거나 조작하며, \n",
    "- 데이터프레임이라 불리는 표 형태의 데이터를 다양하게 처리할 수 있습니다."
   ]
  },
  {
   "cell_type": "code",
   "execution_count": 32,
   "id": "1ab23d58-1e92-490b-b6c2-e7a21c9199d5",
   "metadata": {},
   "outputs": [],
   "source": [
    "import pandas as pd\n",
    "\n",
    "# 데이터프레임 생성\n",
    "data = {'name': ['Alice', 'Bob', 'Charlie', 'David'],\n",
    "        'age': [25, 30, 35, 50],\n",
    "        'gender': ['female', 'male', 'male', 'female']}\n",
    "\n",
    "df = pd.DataFrame(data)"
   ]
  },
  {
   "cell_type": "code",
   "execution_count": 33,
   "id": "4f040523-cec7-45dc-9c3a-fc200bbda281",
   "metadata": {},
   "outputs": [
    {
     "data": {
      "text/html": [
       "<div>\n",
       "<style scoped>\n",
       "    .dataframe tbody tr th:only-of-type {\n",
       "        vertical-align: middle;\n",
       "    }\n",
       "\n",
       "    .dataframe tbody tr th {\n",
       "        vertical-align: top;\n",
       "    }\n",
       "\n",
       "    .dataframe thead th {\n",
       "        text-align: right;\n",
       "    }\n",
       "</style>\n",
       "<table border=\"1\" class=\"dataframe\">\n",
       "  <thead>\n",
       "    <tr style=\"text-align: right;\">\n",
       "      <th></th>\n",
       "      <th>name</th>\n",
       "      <th>age</th>\n",
       "      <th>gender</th>\n",
       "    </tr>\n",
       "  </thead>\n",
       "  <tbody>\n",
       "    <tr>\n",
       "      <th>0</th>\n",
       "      <td>Alice</td>\n",
       "      <td>25</td>\n",
       "      <td>female</td>\n",
       "    </tr>\n",
       "    <tr>\n",
       "      <th>1</th>\n",
       "      <td>Bob</td>\n",
       "      <td>30</td>\n",
       "      <td>male</td>\n",
       "    </tr>\n",
       "    <tr>\n",
       "      <th>2</th>\n",
       "      <td>Charlie</td>\n",
       "      <td>35</td>\n",
       "      <td>male</td>\n",
       "    </tr>\n",
       "    <tr>\n",
       "      <th>3</th>\n",
       "      <td>David</td>\n",
       "      <td>50</td>\n",
       "      <td>female</td>\n",
       "    </tr>\n",
       "  </tbody>\n",
       "</table>\n",
       "</div>"
      ],
      "text/plain": [
       "      name  age  gender\n",
       "0    Alice   25  female\n",
       "1      Bob   30    male\n",
       "2  Charlie   35    male\n",
       "3    David   50  female"
      ]
     },
     "execution_count": 33,
     "metadata": {},
     "output_type": "execute_result"
    }
   ],
   "source": [
    "# 데이터프레임 내용 출력\n",
    "df"
   ]
  },
  {
   "cell_type": "code",
   "execution_count": 34,
   "id": "c8da7376-6884-4a0f-a975-1ef5038f94b1",
   "metadata": {},
   "outputs": [
    {
     "data": {
      "text/plain": [
       "0      Alice\n",
       "1        Bob\n",
       "2    Charlie\n",
       "3      David\n",
       "Name: name, dtype: object"
      ]
     },
     "execution_count": 34,
     "metadata": {},
     "output_type": "execute_result"
    }
   ],
   "source": [
    "# 특정 열 선택\n",
    "selected_column = df['name']\n",
    "selected_column"
   ]
  },
  {
   "cell_type": "code",
   "execution_count": 35,
   "id": "528d34ba-a2e5-4877-bc97-20d7f13559b5",
   "metadata": {},
   "outputs": [
    {
     "data": {
      "text/html": [
       "<div>\n",
       "<style scoped>\n",
       "    .dataframe tbody tr th:only-of-type {\n",
       "        vertical-align: middle;\n",
       "    }\n",
       "\n",
       "    .dataframe tbody tr th {\n",
       "        vertical-align: top;\n",
       "    }\n",
       "\n",
       "    .dataframe thead th {\n",
       "        text-align: right;\n",
       "    }\n",
       "</style>\n",
       "<table border=\"1\" class=\"dataframe\">\n",
       "  <thead>\n",
       "    <tr style=\"text-align: right;\">\n",
       "      <th></th>\n",
       "      <th>name</th>\n",
       "      <th>age</th>\n",
       "      <th>gender</th>\n",
       "    </tr>\n",
       "  </thead>\n",
       "  <tbody>\n",
       "    <tr>\n",
       "      <th>2</th>\n",
       "      <td>Charlie</td>\n",
       "      <td>35</td>\n",
       "      <td>male</td>\n",
       "    </tr>\n",
       "    <tr>\n",
       "      <th>3</th>\n",
       "      <td>David</td>\n",
       "      <td>50</td>\n",
       "      <td>female</td>\n",
       "    </tr>\n",
       "  </tbody>\n",
       "</table>\n",
       "</div>"
      ],
      "text/plain": [
       "      name  age  gender\n",
       "2  Charlie   35    male\n",
       "3    David   50  female"
      ]
     },
     "execution_count": 35,
     "metadata": {},
     "output_type": "execute_result"
    }
   ],
   "source": [
    "# 조건에 맞는 행 선택\n",
    "filtered_rows = df[df['age'] > 30]\n",
    "filtered_rows"
   ]
  },
  {
   "cell_type": "markdown",
   "id": "398af63e-cb37-4189-917b-4c88965a9b43",
   "metadata": {},
   "source": [
    "***"
   ]
  },
  {
   "cell_type": "code",
   "execution_count": 36,
   "id": "b04d2b84-6178-4798-9f14-1fb4c04c3761",
   "metadata": {},
   "outputs": [],
   "source": [
    "import matplotlib.pyplot as plt"
   ]
  },
  {
   "cell_type": "markdown",
   "id": "3da7a034-a580-4301-8e1c-b8c4ffa4bf29",
   "metadata": {},
   "source": [
    "### matplotlib\n",
    "- 데이터 시각화를 위한 라이브러리\n",
    "\n",
    "### 역할\n",
    "- matplotlib은 그래프나 차트 등 다양한 시각화 도구를 제공합니다.\n",
    "- 데이터를 시각적으로 표현하여 패턴이나 관계를 빠르게 파악할 수 있게 도와줍니다.\n",
    "\n",
    "### 활용 예시\n",
    "- 선 그래프, 막대 그래프, 산점도 등 다양한 차트를 생성하여 데이터를 시각화할 수 있습니다."
   ]
  },
  {
   "cell_type": "code",
   "execution_count": 37,
   "id": "0296b4a7-ea92-4989-b9a7-74401cedfd97",
   "metadata": {},
   "outputs": [
    {
     "data": {
      "image/png": "[encoded data removed]",
      "text/plain": [
       "<Figure size 640x480 with 1 Axes>"
      ]
     },
     "metadata": {},
     "output_type": "display_data"
    }
   ],
   "source": [
    "# 막대 그래프 그리기\n",
    "plt.bar(df['name'], df['age'], color='skyblue')\n",
    "plt.xlabel('name')\n",
    "plt.ylabel('age')\n",
    "plt.title('age graph')\n",
    "plt.show()"
   ]
  },
  {
   "cell_type": "code",
   "execution_count": 38,
   "id": "6fa70f6a-ae0a-47c9-ab34-d12d970996d3",
   "metadata": {},
   "outputs": [],
   "source": [
    "import seaborn as sns"
   ]
  },
  {
   "cell_type": "markdown",
   "id": "c93440b0-ccdc-41c5-abd0-bf4e5cc5c362",
   "metadata": {},
   "source": [
    "### seaborn\n",
    "- Matplotlib을 기반으로 하는 통계 데이터 시각화 라이브러리\n",
    "\n",
    "### 역할\n",
    "- seaborn은 matplotlib을 기반으로 통계적 그래픽 기능을 추가한 라이브러리입니다.\n",
    "- 통계적인 관점에서 더 다양한 시각화 기능을 제공합니다.\n",
    "\n",
    "### 활용 예시\n",
    "- 히트맵, 박스 플롯, 카운트 플롯 등의 통계적 그래픽을 생성하여 <br>\n",
    "  데이터의 분포와 관계를 시각적으로 확인할 수 있습니다."
   ]
  },
  {
   "cell_type": "code",
   "execution_count": 39,
   "id": "3ba40d8c-3c57-4f16-8d37-6e450e56cf18",
   "metadata": {},
   "outputs": [
    {
     "data": {
      "image/png": "[encoded data removed]",
      "text/plain": [
       "<Figure size 640x480 with 1 Axes>"
      ]
     },
     "metadata": {},
     "output_type": "display_data"
    }
   ],
   "source": [
    "# 박스 플롯 그리기\n",
    "sns.barplot(x='gender', y='age', data=df, ci=None)  # ci=None은 신뢰 구간을 표시하지 않도록 설정\n",
    "plt.xlabel('gender')\n",
    "plt.ylabel('age')\n",
    "plt.title('gender age graph')\n",
    "plt.show()"
   ]
  }
 ],
 "metadata": {
  "kernelspec": {
   "display_name": "Python 3 (ipykernel)",
   "language": "python",
   "name": "python3"
  },
  "language_info": {
   "codemirror_mode": {
    "name": "ipython",
    "version": 3
   },
   "file_extension": ".py",
   "mimetype": "text/x-python",
   "name": "python",
   "nbconvert_exporter": "python",
   "pygments_lexer": "ipython3",
   "version": "3.9.13"
  }
 },
 "nbformat": 4,
 "nbformat_minor": 5
}
