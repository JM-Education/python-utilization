{
 "cells": [
  {
   "cell_type": "markdown",
   "id": "0460994d-2274-4932-b5cf-6d39ac467501",
   "metadata": {},
   "source": [
    "### 데이터 분석\n",
    "\n",
    "\n",
    "\n",
    "\n",
    "\n",
    "타이타닉 : https://youtu.be/aCQc1y2Y2gY?si=-aiQ4bUM8vaQHAuV"
   ]
  },
  {
   "cell_type": "code",
   "execution_count": null,
   "id": "dc6303c6-ac27-406d-b594-982f02aadca7",
   "metadata": {},
   "outputs": [],
   "source": []
  },
  {
   "cell_type": "code",
   "execution_count": null,
   "id": "0f9e91d6-5428-475c-a145-53ddced1ccd6",
   "metadata": {},
   "outputs": [],
   "source": []
  }
 ],
 "metadata": {
  "kernelspec": {
   "display_name": "Python 3 (ipykernel)",
   "language": "python",
   "name": "python3"
  },
  "language_info": {
   "codemirror_mode": {
    "name": "ipython",
    "version": 3
   },
   "file_extension": ".py",
   "mimetype": "text/x-python",
   "name": "python",
   "nbconvert_exporter": "python",
   "pygments_lexer": "ipython3",
   "version": "3.9.13"
  }
 },
 "nbformat": 4,
 "nbformat_minor": 5
}
