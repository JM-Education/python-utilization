{
 "cells": [
  {
   "cell_type": "markdown",
   "id": "9a7acd9b-5ed5-432f-ae47-be5dcf219779",
   "metadata": {},
   "source": [
    "### 경품 뽑기 구현하기\n",
    "\n",
    "#### 준비물\n",
    "- 1. 경품 종류\n",
    "- 2. 경품 아이템 각 2개 이상\n",
    "- 3. 경품 확률"
   ]
  },
  {
   "cell_type": "code",
   "execution_count": 1,
   "id": "0741f4d9-1e3d-4913-b5b2-0a523b07eff8",
   "metadata": {},
   "outputs": [],
   "source": [
    "import random"
   ]
  },
  {
   "cell_type": "code",
   "execution_count": 2,
   "id": "fdd4336f-e33c-4700-99c9-b56aeb0f8a79",
   "metadata": {},
   "outputs": [],
   "source": [
    "# 갖고 싶은 선물들로 변경해보세욘\n",
    "컴퓨터 = [\"맥북 프로 15인치\", \"맥북 에어 13인치\", \"삼성 최신형 노트북\", \"LG 그램\"]\n",
    "휴대폰 = [\"아이패드 프로\", \"아이폰 15 프로\", \"아이폰 15\",\"갤럭시 z플립 5\", \"갤럭시 23\"]\n",
    "학용품 = [\"뽀로로 공책\", \"포켓몬 지우개\", \"타요 필통\"]\n",
    "간식 = [\"허니버터칩\", \"포켓몬 빵\", \"프링글스\", \"구구콘\", \"메로나\"]"
   ]
  },
  {
   "cell_type": "code",
   "execution_count": 14,
   "id": "218bad8c-78d0-4250-8c18-45326be3a51b",
   "metadata": {},
   "outputs": [],
   "source": [
    "컴퓨터_확률 = 1 # 1%\n",
    "휴대폰_확률 = 3\n",
    "학용품_확률 = 30\n",
    "간식_확률 = 66"
   ]
  },
  {
   "cell_type": "markdown",
   "id": "1e4c8b26-38ed-428a-8cda-4a63e5e7e307",
   "metadata": {},
   "source": [
    "### 각각 확률의 총합은 반드시 \"100\" 이여야합니다!"
   ]
  },
  {
   "cell_type": "code",
   "execution_count": 15,
   "id": "4ecf2e11-469c-470b-9ced-511abfd4dd0d",
   "metadata": {},
   "outputs": [
    {
     "name": "stdout",
     "output_type": "stream",
     "text": [
      "100\n"
     ]
    }
   ],
   "source": [
    "print(컴퓨터_확률 + 휴대폰_확률 + 학용품_확률 + 간식_확률)"
   ]
  },
  {
   "cell_type": "markdown",
   "id": "9d74fa44-0401-4ab3-ba18-8b96f845b452",
   "metadata": {},
   "source": [
    "### Random.choice(리스트)\n",
    "\n",
    "- 리스트안에 있는 아이템들 중에서 랜덤으로 하나 뽑아주는 파이썬 Random 내장 함수입니다!"
   ]
  },
  {
   "cell_type": "code",
   "execution_count": 11,
   "id": "76b5fe1c-f6ac-439e-8778-63c507a8d18b",
   "metadata": {},
   "outputs": [
    {
     "data": {
      "text/plain": [
       "'맥북 에어 13인치'"
      ]
     },
     "execution_count": 11,
     "metadata": {},
     "output_type": "execute_result"
    }
   ],
   "source": [
    "random.choice(컴퓨터)"
   ]
  },
  {
   "cell_type": "markdown",
   "id": "97fa1328-718a-4090-b9b9-4da5475b1529",
   "metadata": {},
   "source": [
    "## 경품 뽑기 구현"
   ]
  },
  {
   "cell_type": "code",
   "execution_count": 67,
   "id": "82052f4d-ee2a-4d87-83dc-4ca228646d0a",
   "metadata": {},
   "outputs": [
    {
     "name": "stdout",
     "output_type": "stream",
     "text": [
      "83.40714936278684\n",
      "학용품 당첨!\n",
      "타요 필통\n"
     ]
    }
   ],
   "source": [
    "random_value = random.random() * 100\n",
    "print(random_value)\n",
    "\n",
    "if random_value <= 간식_확률:\n",
    "    print(\"간식 당첨\")\n",
    "    print(random.choice(간식))\n",
    "elif 간식_확률 < random_value <= (간식_확률 + 학용품_확률):\n",
    "    print(\"학용품 당첨!\")\n",
    "    print(random.choice(학용품))\n",
    "elif (간식_확률 + 학용품_확률) < random_value <= (간식_확률 + 학용품_확률 + 휴대폰_확률):\n",
    "    print(\"휴대폰 당첨!!\")\n",
    "    print(random.choice(휴대폰))\n",
    "else:\n",
    "    print(\"대박!!! 컴퓨터 당첨!!!\")\n",
    "    print(random.choice(휴대폰))"
   ]
  },
  {
   "cell_type": "markdown",
   "id": "39a19175-869b-4a0a-9c3d-52a8024b80fa",
   "metadata": {},
   "source": [
    "### 확률값을 바꿔보면서 맞는지 확인해보세요!"
   ]
  }
 ],
 "metadata": {
  "kernelspec": {
   "display_name": "Python 3 (ipykernel)",
   "language": "python",
   "name": "python3"
  },
  "language_info": {
   "codemirror_mode": {
    "name": "ipython",
    "version": 3
   },
   "file_extension": ".py",
   "mimetype": "text/x-python",
   "name": "python",
   "nbconvert_exporter": "python",
   "pygments_lexer": "ipython3",
   "version": "3.9.13"
  }
 },
 "nbformat": 4,
 "nbformat_minor": 5
}
